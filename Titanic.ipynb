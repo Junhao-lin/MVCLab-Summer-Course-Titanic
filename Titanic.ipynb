{
  "nbformat": 4,
  "nbformat_minor": 0,
  "metadata": {
    "colab": {
      "name": "Titanic.ipynb",
      "provenance": []
    },
    "kernelspec": {
      "name": "python3",
      "display_name": "Python 3"
    },
    "language_info": {
      "name": "python"
    },
    "gpuClass": "standard"
  },
  "cells": [
    {
      "cell_type": "markdown",
      "source": [
        "## Check GPU"
      ],
      "metadata": {
        "id": "BzuV6iqgOetj"
      }
    },
    {
      "cell_type": "code",
      "execution_count": 158,
      "metadata": {
        "colab": {
          "base_uri": "https://localhost:8080/"
        },
        "id": "ChndL9pM6F2C",
        "outputId": "82a1801c-bc2e-4cd0-abb6-bc73492c8ee7"
      },
      "outputs": [
        {
          "output_type": "stream",
          "name": "stdout",
          "text": [
            "NVIDIA-SMI has failed because it couldn't communicate with the NVIDIA driver. Make sure that the latest NVIDIA driver is installed and running.\n",
            "\n"
          ]
        }
      ],
      "source": [
        "!nvidia-smi"
      ]
    },
    {
      "cell_type": "markdown",
      "source": [
        "## Download Data"
      ],
      "metadata": {
        "id": "J6zwGTX9OgI1"
      }
    },
    {
      "cell_type": "code",
      "source": [
        "!gdown --id '1vL5huCbpu9ue2Xt0wV9PKjrFfGP6p3Ay' --output train.csv\n",
        "!gdown --id '17_ymt4mwN1FSGrR1EUTyOsPfX6k2pgjW' --output test.csv\n",
        "!gdown --id '1TkTHU2NOaezsfIgN42-iAYf3Wf1TJ0r8' --output gender_submission.csv\n",
        "!ls"
      ],
      "metadata": {
        "colab": {
          "base_uri": "https://localhost:8080/"
        },
        "id": "M2fedZ566kvG",
        "outputId": "4084cd19-482a-45f8-882d-1ee26b85bda1"
      },
      "execution_count": 159,
      "outputs": [
        {
          "output_type": "stream",
          "name": "stdout",
          "text": [
            "/usr/local/lib/python3.7/dist-packages/gdown/cli.py:131: FutureWarning: Option `--id` was deprecated in version 4.3.1 and will be removed in 5.0. You don't need to pass it anymore to use a file ID.\n",
            "  category=FutureWarning,\n",
            "Downloading...\n",
            "From: https://drive.google.com/uc?id=1vL5huCbpu9ue2Xt0wV9PKjrFfGP6p3Ay\n",
            "To: /content/train.csv\n",
            "100% 61.2k/61.2k [00:00<00:00, 66.2MB/s]\n",
            "/usr/local/lib/python3.7/dist-packages/gdown/cli.py:131: FutureWarning: Option `--id` was deprecated in version 4.3.1 and will be removed in 5.0. You don't need to pass it anymore to use a file ID.\n",
            "  category=FutureWarning,\n",
            "Downloading...\n",
            "From: https://drive.google.com/uc?id=17_ymt4mwN1FSGrR1EUTyOsPfX6k2pgjW\n",
            "To: /content/test.csv\n",
            "100% 28.6k/28.6k [00:00<00:00, 40.2MB/s]\n",
            "/usr/local/lib/python3.7/dist-packages/gdown/cli.py:131: FutureWarning: Option `--id` was deprecated in version 4.3.1 and will be removed in 5.0. You don't need to pass it anymore to use a file ID.\n",
            "  category=FutureWarning,\n",
            "Downloading...\n",
            "From: https://drive.google.com/uc?id=1TkTHU2NOaezsfIgN42-iAYf3Wf1TJ0r8\n",
            "To: /content/gender_submission.csv\n",
            "100% 3.26k/3.26k [00:00<00:00, 5.76MB/s]\n",
            "gender_submission.csv  sample_data     test.csv\n",
            "model.pt\t       submission.csv  train.csv\n"
          ]
        }
      ]
    },
    {
      "cell_type": "markdown",
      "source": [
        "## Import Package"
      ],
      "metadata": {
        "id": "TpAALvCCOk-_"
      }
    },
    {
      "cell_type": "code",
      "source": [
        "import numpy as np\n",
        "import pandas as pd\n",
        "import matplotlib.pyplot as plt\n",
        "from torch.utils.data import Dataset, DataLoader\n",
        "from torch import nn\n",
        "import random\n",
        "import os\n",
        "import torch\n",
        "from tqdm.auto import tqdm\n",
        "import seaborn as sns\n",
        "from torch.nn import functional as F\n",
        "from torch.autograd import Variable"
      ],
      "metadata": {
        "id": "ya11O9HT6re4"
      },
      "execution_count": 160,
      "outputs": []
    },
    {
      "cell_type": "markdown",
      "source": [
        "## Read Data"
      ],
      "metadata": {
        "id": "-7930qcnOns1"
      }
    },
    {
      "cell_type": "code",
      "source": [
        "train_df = pd.read_csv(\"train.csv\")\n",
        "test_df = pd.read_csv(\"test.csv\")\n",
        "ans_df = pd.read_csv(\"gender_submission.csv\")"
      ],
      "metadata": {
        "id": "baGWqPMY9kcz"
      },
      "execution_count": 161,
      "outputs": []
    },
    {
      "cell_type": "markdown",
      "source": [
        "## Data Preprocess"
      ],
      "metadata": {
        "id": "MLY540weOx6J"
      }
    },
    {
      "cell_type": "code",
      "source": [
        "train_df.head()"
      ],
      "metadata": {
        "colab": {
          "base_uri": "https://localhost:8080/",
          "height": 302
        },
        "id": "BsBI6RQWLKBX",
        "outputId": "f7a5563c-b907-4825-d635-703ec15c801e"
      },
      "execution_count": 162,
      "outputs": [
        {
          "output_type": "execute_result",
          "data": {
            "text/plain": [
              "   PassengerId  Survived  Pclass  \\\n",
              "0            1         0       3   \n",
              "1            2         1       1   \n",
              "2            3         1       3   \n",
              "3            4         1       1   \n",
              "4            5         0       3   \n",
              "\n",
              "                                                Name     Sex   Age  SibSp  \\\n",
              "0                            Braund, Mr. Owen Harris    male  22.0      1   \n",
              "1  Cumings, Mrs. John Bradley (Florence Briggs Th...  female  38.0      1   \n",
              "2                             Heikkinen, Miss. Laina  female  26.0      0   \n",
              "3       Futrelle, Mrs. Jacques Heath (Lily May Peel)  female  35.0      1   \n",
              "4                           Allen, Mr. William Henry    male  35.0      0   \n",
              "\n",
              "   Parch            Ticket     Fare Cabin Embarked  \n",
              "0      0         A/5 21171   7.2500   NaN        S  \n",
              "1      0          PC 17599  71.2833   C85        C  \n",
              "2      0  STON/O2. 3101282   7.9250   NaN        S  \n",
              "3      0            113803  53.1000  C123        S  \n",
              "4      0            373450   8.0500   NaN        S  "
            ],
            "text/html": [
              "\n",
              "  <div id=\"df-9248dce7-ee7a-4014-8f6e-cc234d3e0d40\">\n",
              "    <div class=\"colab-df-container\">\n",
              "      <div>\n",
              "<style scoped>\n",
              "    .dataframe tbody tr th:only-of-type {\n",
              "        vertical-align: middle;\n",
              "    }\n",
              "\n",
              "    .dataframe tbody tr th {\n",
              "        vertical-align: top;\n",
              "    }\n",
              "\n",
              "    .dataframe thead th {\n",
              "        text-align: right;\n",
              "    }\n",
              "</style>\n",
              "<table border=\"1\" class=\"dataframe\">\n",
              "  <thead>\n",
              "    <tr style=\"text-align: right;\">\n",
              "      <th></th>\n",
              "      <th>PassengerId</th>\n",
              "      <th>Survived</th>\n",
              "      <th>Pclass</th>\n",
              "      <th>Name</th>\n",
              "      <th>Sex</th>\n",
              "      <th>Age</th>\n",
              "      <th>SibSp</th>\n",
              "      <th>Parch</th>\n",
              "      <th>Ticket</th>\n",
              "      <th>Fare</th>\n",
              "      <th>Cabin</th>\n",
              "      <th>Embarked</th>\n",
              "    </tr>\n",
              "  </thead>\n",
              "  <tbody>\n",
              "    <tr>\n",
              "      <th>0</th>\n",
              "      <td>1</td>\n",
              "      <td>0</td>\n",
              "      <td>3</td>\n",
              "      <td>Braund, Mr. Owen Harris</td>\n",
              "      <td>male</td>\n",
              "      <td>22.0</td>\n",
              "      <td>1</td>\n",
              "      <td>0</td>\n",
              "      <td>A/5 21171</td>\n",
              "      <td>7.2500</td>\n",
              "      <td>NaN</td>\n",
              "      <td>S</td>\n",
              "    </tr>\n",
              "    <tr>\n",
              "      <th>1</th>\n",
              "      <td>2</td>\n",
              "      <td>1</td>\n",
              "      <td>1</td>\n",
              "      <td>Cumings, Mrs. John Bradley (Florence Briggs Th...</td>\n",
              "      <td>female</td>\n",
              "      <td>38.0</td>\n",
              "      <td>1</td>\n",
              "      <td>0</td>\n",
              "      <td>PC 17599</td>\n",
              "      <td>71.2833</td>\n",
              "      <td>C85</td>\n",
              "      <td>C</td>\n",
              "    </tr>\n",
              "    <tr>\n",
              "      <th>2</th>\n",
              "      <td>3</td>\n",
              "      <td>1</td>\n",
              "      <td>3</td>\n",
              "      <td>Heikkinen, Miss. Laina</td>\n",
              "      <td>female</td>\n",
              "      <td>26.0</td>\n",
              "      <td>0</td>\n",
              "      <td>0</td>\n",
              "      <td>STON/O2. 3101282</td>\n",
              "      <td>7.9250</td>\n",
              "      <td>NaN</td>\n",
              "      <td>S</td>\n",
              "    </tr>\n",
              "    <tr>\n",
              "      <th>3</th>\n",
              "      <td>4</td>\n",
              "      <td>1</td>\n",
              "      <td>1</td>\n",
              "      <td>Futrelle, Mrs. Jacques Heath (Lily May Peel)</td>\n",
              "      <td>female</td>\n",
              "      <td>35.0</td>\n",
              "      <td>1</td>\n",
              "      <td>0</td>\n",
              "      <td>113803</td>\n",
              "      <td>53.1000</td>\n",
              "      <td>C123</td>\n",
              "      <td>S</td>\n",
              "    </tr>\n",
              "    <tr>\n",
              "      <th>4</th>\n",
              "      <td>5</td>\n",
              "      <td>0</td>\n",
              "      <td>3</td>\n",
              "      <td>Allen, Mr. William Henry</td>\n",
              "      <td>male</td>\n",
              "      <td>35.0</td>\n",
              "      <td>0</td>\n",
              "      <td>0</td>\n",
              "      <td>373450</td>\n",
              "      <td>8.0500</td>\n",
              "      <td>NaN</td>\n",
              "      <td>S</td>\n",
              "    </tr>\n",
              "  </tbody>\n",
              "</table>\n",
              "</div>\n",
              "      <button class=\"colab-df-convert\" onclick=\"convertToInteractive('df-9248dce7-ee7a-4014-8f6e-cc234d3e0d40')\"\n",
              "              title=\"Convert this dataframe to an interactive table.\"\n",
              "              style=\"display:none;\">\n",
              "        \n",
              "  <svg xmlns=\"http://www.w3.org/2000/svg\" height=\"24px\"viewBox=\"0 0 24 24\"\n",
              "       width=\"24px\">\n",
              "    <path d=\"M0 0h24v24H0V0z\" fill=\"none\"/>\n",
              "    <path d=\"M18.56 5.44l.94 2.06.94-2.06 2.06-.94-2.06-.94-.94-2.06-.94 2.06-2.06.94zm-11 1L8.5 8.5l.94-2.06 2.06-.94-2.06-.94L8.5 2.5l-.94 2.06-2.06.94zm10 10l.94 2.06.94-2.06 2.06-.94-2.06-.94-.94-2.06-.94 2.06-2.06.94z\"/><path d=\"M17.41 7.96l-1.37-1.37c-.4-.4-.92-.59-1.43-.59-.52 0-1.04.2-1.43.59L10.3 9.45l-7.72 7.72c-.78.78-.78 2.05 0 2.83L4 21.41c.39.39.9.59 1.41.59.51 0 1.02-.2 1.41-.59l7.78-7.78 2.81-2.81c.8-.78.8-2.07 0-2.86zM5.41 20L4 18.59l7.72-7.72 1.47 1.35L5.41 20z\"/>\n",
              "  </svg>\n",
              "      </button>\n",
              "      \n",
              "  <style>\n",
              "    .colab-df-container {\n",
              "      display:flex;\n",
              "      flex-wrap:wrap;\n",
              "      gap: 12px;\n",
              "    }\n",
              "\n",
              "    .colab-df-convert {\n",
              "      background-color: #E8F0FE;\n",
              "      border: none;\n",
              "      border-radius: 50%;\n",
              "      cursor: pointer;\n",
              "      display: none;\n",
              "      fill: #1967D2;\n",
              "      height: 32px;\n",
              "      padding: 0 0 0 0;\n",
              "      width: 32px;\n",
              "    }\n",
              "\n",
              "    .colab-df-convert:hover {\n",
              "      background-color: #E2EBFA;\n",
              "      box-shadow: 0px 1px 2px rgba(60, 64, 67, 0.3), 0px 1px 3px 1px rgba(60, 64, 67, 0.15);\n",
              "      fill: #174EA6;\n",
              "    }\n",
              "\n",
              "    [theme=dark] .colab-df-convert {\n",
              "      background-color: #3B4455;\n",
              "      fill: #D2E3FC;\n",
              "    }\n",
              "\n",
              "    [theme=dark] .colab-df-convert:hover {\n",
              "      background-color: #434B5C;\n",
              "      box-shadow: 0px 1px 3px 1px rgba(0, 0, 0, 0.15);\n",
              "      filter: drop-shadow(0px 1px 2px rgba(0, 0, 0, 0.3));\n",
              "      fill: #FFFFFF;\n",
              "    }\n",
              "  </style>\n",
              "\n",
              "      <script>\n",
              "        const buttonEl =\n",
              "          document.querySelector('#df-9248dce7-ee7a-4014-8f6e-cc234d3e0d40 button.colab-df-convert');\n",
              "        buttonEl.style.display =\n",
              "          google.colab.kernel.accessAllowed ? 'block' : 'none';\n",
              "\n",
              "        async function convertToInteractive(key) {\n",
              "          const element = document.querySelector('#df-9248dce7-ee7a-4014-8f6e-cc234d3e0d40');\n",
              "          const dataTable =\n",
              "            await google.colab.kernel.invokeFunction('convertToInteractive',\n",
              "                                                     [key], {});\n",
              "          if (!dataTable) return;\n",
              "\n",
              "          const docLinkHtml = 'Like what you see? Visit the ' +\n",
              "            '<a target=\"_blank\" href=https://colab.research.google.com/notebooks/data_table.ipynb>data table notebook</a>'\n",
              "            + ' to learn more about interactive tables.';\n",
              "          element.innerHTML = '';\n",
              "          dataTable['output_type'] = 'display_data';\n",
              "          await google.colab.output.renderOutput(dataTable, element);\n",
              "          const docLink = document.createElement('div');\n",
              "          docLink.innerHTML = docLinkHtml;\n",
              "          element.appendChild(docLink);\n",
              "        }\n",
              "      </script>\n",
              "    </div>\n",
              "  </div>\n",
              "  "
            ]
          },
          "metadata": {},
          "execution_count": 162
        }
      ]
    },
    {
      "cell_type": "code",
      "source": [
        "f, ax = plt.subplots(figsize=(10, 10))\n",
        "mat = train_df.corr()\n",
        "mask = np.triu(np.ones_like(mat, dtype=bool))\n",
        "cmap = sns.diverging_palette(230, 20, as_cmap=True)\n",
        "sns.heatmap(mat, mask=mask, cmap=cmap, vmax=1, center=0, annot = True,\n",
        "            square=True, linewidths=.5, cbar_kws={\"shrink\": .5})\n",
        "plt.show()"
      ],
      "metadata": {
        "colab": {
          "base_uri": "https://localhost:8080/",
          "height": 494
        },
        "id": "JTbG-BcJKrcb",
        "outputId": "25257861-f9e6-4311-98a2-ff44e978786d"
      },
      "execution_count": 163,
      "outputs": [
        {
          "output_type": "display_data",
          "data": {
            "text/plain": [
              "<Figure size 720x720 with 2 Axes>"
            ],
            "image/png": "[encoded data removed]"
          },
          "metadata": {
            "needs_background": "light"
          }
        }
      ]
    },
    {
      "cell_type": "code",
      "source": [
        "ytrain = train_df.Survived\n",
        "feature = train_df.append(test_df)\n",
        "feature.drop(['PassengerId','Name', 'Ticket', 'Cabin','Survived'], inplace=True, axis=1)\n",
        "feature['Embarked'].fillna(feature['Embarked'].value_counts().idxmax(), inplace=True)\n",
        "feature['Fare'].fillna(feature['Fare'].mean(), inplace=True)\n",
        "feature['Age'].fillna(feature['Age'].value_counts().idxmax(), inplace=True)\n",
        "feature = pd.get_dummies(feature ,columns = [\"Sex\", \"Embarked\", \"Pclass\"], drop_first = True)"
      ],
      "metadata": {
        "id": "dMRCSlgmABXV"
      },
      "execution_count": 164,
      "outputs": []
    },
    {
      "cell_type": "markdown",
      "source": [
        "## Split data"
      ],
      "metadata": {
        "id": "Kmx0HkShXgUY"
      }
    },
    {
      "cell_type": "code",
      "source": [
        "trainNRows = train_df.shape[0]\n",
        "train = feature.iloc[:trainNRows]\n",
        "test = feature.iloc[trainNRows:]\n",
        "print('training set', train.shape)\n",
        "print('test set', test.shape)"
      ],
      "metadata": {
        "colab": {
          "base_uri": "https://localhost:8080/"
        },
        "id": "uUR3Z2xkV72Q",
        "outputId": "13480226-d968-4963-fba9-a80e5b0f43c6"
      },
      "execution_count": 165,
      "outputs": [
        {
          "output_type": "stream",
          "name": "stdout",
          "text": [
            "training set (891, 9)\n",
            "test set (418, 9)\n"
          ]
        }
      ]
    },
    {
      "cell_type": "code",
      "source": [
        "from sklearn.model_selection import train_test_split\n",
        "X_train, X_test, y_train, y_test = train_test_split(train, ytrain, test_size = 0.1, random_state = 852)"
      ],
      "metadata": {
        "id": "bgCaZga8XPPE"
      },
      "execution_count": 166,
      "outputs": []
    },
    {
      "cell_type": "code",
      "source": [
        "X_train.shape, y_train.shape,X_test.shape"
      ],
      "metadata": {
        "colab": {
          "base_uri": "https://localhost:8080/"
        },
        "id": "afZH3mpmXWYZ",
        "outputId": "6b3d5c79-6917-4731-c64e-8f6a362576a7"
      },
      "execution_count": 167,
      "outputs": [
        {
          "output_type": "execute_result",
          "data": {
            "text/plain": [
              "((712, 9), (712,), (179, 9))"
            ]
          },
          "metadata": {},
          "execution_count": 167
        }
      ]
    },
    {
      "cell_type": "code",
      "source": [
        "class Net(nn.Module):\n",
        "    def __init__(self):\n",
        "        super(Net, self).__init__()\n",
        "        self.fc1 = nn.Linear(9, 256)\n",
        "        self.fc2 = nn.Linear(256, 512)\n",
        "        self.fc3 = nn.Linear(512, 2)\n",
        "        self.dropout = nn.Dropout(0.2)\n",
        "        \n",
        "    def forward(self, x):\n",
        "        x = F.leaky_relu(self.fc1(x))        \n",
        "        x = F.leaky_relu(self.fc2(x))        \n",
        "        x = self.fc3(x)\n",
        "        return x\n",
        "model = Net()\n",
        "print(model)"
      ],
      "metadata": {
        "colab": {
          "base_uri": "https://localhost:8080/"
        },
        "id": "OV0Fk7m8XZC8",
        "outputId": "8b9caf14-c5ae-455f-e5ab-42b22b3631f7"
      },
      "execution_count": 168,
      "outputs": [
        {
          "output_type": "stream",
          "name": "stdout",
          "text": [
            "Net(\n",
            "  (fc1): Linear(in_features=9, out_features=512, bias=True)\n",
            "  (fc2): Linear(in_features=512, out_features=512, bias=True)\n",
            "  (fc3): Linear(in_features=512, out_features=2, bias=True)\n",
            "  (dropout): Dropout(p=0.2, inplace=False)\n",
            ")\n"
          ]
        }
      ]
    },
    {
      "cell_type": "code",
      "source": [
        "SEED = 508\n",
        "\n",
        "def random_seed(SEED):\n",
        "    \n",
        "    random.seed(SEED)\n",
        "    os.environ['PYTHONHASHSEED'] = str(SEED)\n",
        "    np.random.seed(SEED)\n",
        "    torch.manual_seed(SEED)\n",
        "    torch.cuda.manual_seed(SEED)\n",
        "    torch.cuda.manual_seed_all(SEED)\n",
        "    torch.backends.cudnn.deterministic = True\n",
        "\n",
        "random_seed(SEED)"
      ],
      "metadata": {
        "id": "xHMdOLDLvZsY"
      },
      "execution_count": 169,
      "outputs": []
    },
    {
      "cell_type": "code",
      "source": [
        "model=Net()\n",
        "device = torch.device('cuda' if torch.cuda.is_available() else 'cpu')\n",
        "model.to(device)\n",
        "criterion = nn.CrossEntropyLoss()\n",
        "optimizer = torch.optim.SGD(model.parameters(), lr=0.01)\n",
        "model.train()\n",
        "EPOCHS = 500\n",
        "batch_size = 64\n",
        "batch_number = len(X_train) // batch_size\n",
        "train_loss = 0\n",
        "loss_min = 1\n",
        "step = 0\n",
        "for epoch in range(EPOCHS):\n",
        "    running_loss = []\n",
        "    total = 0\n",
        "    correct = 0\n",
        "    for i in range(batch_number):\n",
        "        start = i * batch_size\n",
        "        end   = start + batch_size\n",
        "        x_var = Variable(torch.FloatTensor(X_train[start:end].values))\n",
        "        y_var = Variable(torch.LongTensor(y_train[start:end].values))\n",
        "        optimizer.zero_grad()\n",
        "        output = model(x_var)\n",
        "        loss = criterion(output,y_var)\n",
        "        loss.backward()\n",
        "        optimizer.step()\n",
        "\n",
        "        values, labels = torch.max(output, 1)\n",
        "        num_right   = np.sum(labels.data.numpy() == y_train[start:end])\n",
        "        train_loss += loss.item()*batch_size\n",
        "    train_loss = train_loss / len(X_train)\n",
        "    if train_loss < loss_min:        \n",
        "        loss_min = train_loss\n",
        "    if train_loss > loss_min:        \n",
        "        step += 1\n",
        "        if step > 15:\n",
        "            break\n",
        "    else:\n",
        "        step = 0\n",
        "    print(f\"Epoch: {epoch+1} \\tTrain Loss: {train_loss:5f} \\tTrain Accuracy: {num_right / len(y_train[start:end]):.5f}\")"
      ],
      "metadata": {
        "colab": {
          "base_uri": "https://localhost:8080/"
        },
        "id": "AB-JNWzUwkuq",
        "outputId": "8493829e-1a22-48b0-e4e4-40668341c483"
      },
      "execution_count": 175,
      "outputs": [
        {
          "output_type": "stream",
          "name": "stdout",
          "text": [
            "Epoch: 1 \tTrain Loss: 4.138719 \tTrain Accuracy: 0.64844\n",
            "Epoch: 2 \tTrain Loss: 0.904155 \tTrain Accuracy: 0.50781\n",
            "Epoch: 3 \tTrain Loss: 0.739407 \tTrain Accuracy: 0.61719\n",
            "Epoch: 4 \tTrain Loss: 0.630983 \tTrain Accuracy: 0.67188\n",
            "Epoch: 5 \tTrain Loss: 0.598906 \tTrain Accuracy: 0.67188\n",
            "Epoch: 6 \tTrain Loss: 0.581155 \tTrain Accuracy: 0.67969\n",
            "Epoch: 7 \tTrain Loss: 0.571465 \tTrain Accuracy: 0.67188\n",
            "Epoch: 8 \tTrain Loss: 0.561933 \tTrain Accuracy: 0.66406\n",
            "Epoch: 9 \tTrain Loss: 0.556472 \tTrain Accuracy: 0.67969\n",
            "Epoch: 10 \tTrain Loss: 0.552326 \tTrain Accuracy: 0.67969\n",
            "Epoch: 11 \tTrain Loss: 0.549110 \tTrain Accuracy: 0.67969\n",
            "Epoch: 12 \tTrain Loss: 0.546729 \tTrain Accuracy: 0.66406\n",
            "Epoch: 13 \tTrain Loss: 0.544560 \tTrain Accuracy: 0.67188\n",
            "Epoch: 14 \tTrain Loss: 0.542956 \tTrain Accuracy: 0.67188\n",
            "Epoch: 15 \tTrain Loss: 0.541359 \tTrain Accuracy: 0.65625\n",
            "Epoch: 16 \tTrain Loss: 0.539905 \tTrain Accuracy: 0.66406\n",
            "Epoch: 17 \tTrain Loss: 0.538732 \tTrain Accuracy: 0.67188\n",
            "Epoch: 18 \tTrain Loss: 0.537658 \tTrain Accuracy: 0.67969\n",
            "Epoch: 19 \tTrain Loss: 0.536681 \tTrain Accuracy: 0.69531\n",
            "Epoch: 20 \tTrain Loss: 0.535607 \tTrain Accuracy: 0.68750\n",
            "Epoch: 21 \tTrain Loss: 0.534894 \tTrain Accuracy: 0.68750\n",
            "Epoch: 22 \tTrain Loss: 0.534042 \tTrain Accuracy: 0.68750\n",
            "Epoch: 23 \tTrain Loss: 0.533347 \tTrain Accuracy: 0.68750\n",
            "Epoch: 24 \tTrain Loss: 0.532557 \tTrain Accuracy: 0.68750\n",
            "Epoch: 25 \tTrain Loss: 0.531957 \tTrain Accuracy: 0.68750\n",
            "Epoch: 26 \tTrain Loss: 0.531222 \tTrain Accuracy: 0.68750\n",
            "Epoch: 27 \tTrain Loss: 0.530578 \tTrain Accuracy: 0.68750\n",
            "Epoch: 28 \tTrain Loss: 0.529938 \tTrain Accuracy: 0.68750\n",
            "Epoch: 29 \tTrain Loss: 0.529213 \tTrain Accuracy: 0.68750\n",
            "Epoch: 30 \tTrain Loss: 0.528725 \tTrain Accuracy: 0.68750\n",
            "Epoch: 31 \tTrain Loss: 0.528166 \tTrain Accuracy: 0.68750\n",
            "Epoch: 32 \tTrain Loss: 0.527610 \tTrain Accuracy: 0.69531\n",
            "Epoch: 33 \tTrain Loss: 0.527033 \tTrain Accuracy: 0.69531\n",
            "Epoch: 34 \tTrain Loss: 0.526441 \tTrain Accuracy: 0.69531\n",
            "Epoch: 35 \tTrain Loss: 0.525897 \tTrain Accuracy: 0.69531\n",
            "Epoch: 36 \tTrain Loss: 0.525246 \tTrain Accuracy: 0.69531\n",
            "Epoch: 37 \tTrain Loss: 0.524688 \tTrain Accuracy: 0.69531\n",
            "Epoch: 38 \tTrain Loss: 0.524160 \tTrain Accuracy: 0.69531\n",
            "Epoch: 39 \tTrain Loss: 0.523756 \tTrain Accuracy: 0.69531\n",
            "Epoch: 40 \tTrain Loss: 0.523157 \tTrain Accuracy: 0.69531\n",
            "Epoch: 41 \tTrain Loss: 0.522627 \tTrain Accuracy: 0.69531\n",
            "Epoch: 42 \tTrain Loss: 0.522231 \tTrain Accuracy: 0.69531\n",
            "Epoch: 43 \tTrain Loss: 0.521785 \tTrain Accuracy: 0.69531\n",
            "Epoch: 44 \tTrain Loss: 0.521118 \tTrain Accuracy: 0.69531\n",
            "Epoch: 45 \tTrain Loss: 0.520609 \tTrain Accuracy: 0.69531\n",
            "Epoch: 46 \tTrain Loss: 0.520300 \tTrain Accuracy: 0.69531\n",
            "Epoch: 47 \tTrain Loss: 0.519794 \tTrain Accuracy: 0.69531\n",
            "Epoch: 48 \tTrain Loss: 0.519213 \tTrain Accuracy: 0.69531\n",
            "Epoch: 49 \tTrain Loss: 0.518731 \tTrain Accuracy: 0.69531\n",
            "Epoch: 50 \tTrain Loss: 0.518128 \tTrain Accuracy: 0.69531\n",
            "Epoch: 51 \tTrain Loss: 0.517840 \tTrain Accuracy: 0.69531\n",
            "Epoch: 52 \tTrain Loss: 0.517088 \tTrain Accuracy: 0.69531\n",
            "Epoch: 53 \tTrain Loss: 0.516557 \tTrain Accuracy: 0.69531\n",
            "Epoch: 54 \tTrain Loss: 0.516323 \tTrain Accuracy: 0.69531\n",
            "Epoch: 55 \tTrain Loss: 0.515566 \tTrain Accuracy: 0.69531\n",
            "Epoch: 56 \tTrain Loss: 0.515118 \tTrain Accuracy: 0.69531\n",
            "Epoch: 57 \tTrain Loss: 0.514396 \tTrain Accuracy: 0.69531\n",
            "Epoch: 58 \tTrain Loss: 0.513664 \tTrain Accuracy: 0.69531\n",
            "Epoch: 59 \tTrain Loss: 0.513582 \tTrain Accuracy: 0.69531\n",
            "Epoch: 60 \tTrain Loss: 0.512620 \tTrain Accuracy: 0.69531\n",
            "Epoch: 61 \tTrain Loss: 0.512462 \tTrain Accuracy: 0.69531\n",
            "Epoch: 62 \tTrain Loss: 0.511876 \tTrain Accuracy: 0.70312\n",
            "Epoch: 63 \tTrain Loss: 0.511159 \tTrain Accuracy: 0.69531\n",
            "Epoch: 64 \tTrain Loss: 0.510832 \tTrain Accuracy: 0.70312\n",
            "Epoch: 65 \tTrain Loss: 0.510358 \tTrain Accuracy: 0.70312\n",
            "Epoch: 66 \tTrain Loss: 0.509590 \tTrain Accuracy: 0.70312\n",
            "Epoch: 67 \tTrain Loss: 0.509608 \tTrain Accuracy: 0.71094\n",
            "Epoch: 68 \tTrain Loss: 0.509163 \tTrain Accuracy: 0.71094\n",
            "Epoch: 69 \tTrain Loss: 0.508489 \tTrain Accuracy: 0.71094\n",
            "Epoch: 70 \tTrain Loss: 0.508120 \tTrain Accuracy: 0.71094\n",
            "Epoch: 71 \tTrain Loss: 0.507011 \tTrain Accuracy: 0.71094\n",
            "Epoch: 72 \tTrain Loss: 0.506581 \tTrain Accuracy: 0.71094\n",
            "Epoch: 73 \tTrain Loss: 0.505641 \tTrain Accuracy: 0.71094\n",
            "Epoch: 74 \tTrain Loss: 0.505179 \tTrain Accuracy: 0.70312\n",
            "Epoch: 75 \tTrain Loss: 0.504584 \tTrain Accuracy: 0.70312\n",
            "Epoch: 76 \tTrain Loss: 0.503358 \tTrain Accuracy: 0.70312\n",
            "Epoch: 77 \tTrain Loss: 0.503788 \tTrain Accuracy: 0.71875\n",
            "Epoch: 78 \tTrain Loss: 0.502133 \tTrain Accuracy: 0.71094\n",
            "Epoch: 79 \tTrain Loss: 0.502865 \tTrain Accuracy: 0.71875\n",
            "Epoch: 80 \tTrain Loss: 0.501132 \tTrain Accuracy: 0.71094\n",
            "Epoch: 81 \tTrain Loss: 0.502395 \tTrain Accuracy: 0.72656\n",
            "Epoch: 82 \tTrain Loss: 0.498728 \tTrain Accuracy: 0.69531\n",
            "Epoch: 83 \tTrain Loss: 0.502823 \tTrain Accuracy: 0.71875\n",
            "Epoch: 84 \tTrain Loss: 0.497055 \tTrain Accuracy: 0.70312\n",
            "Epoch: 85 \tTrain Loss: 0.513651 \tTrain Accuracy: 0.71094\n",
            "Epoch: 86 \tTrain Loss: 0.499162 \tTrain Accuracy: 0.69531\n",
            "Epoch: 87 \tTrain Loss: 0.514600 \tTrain Accuracy: 0.69531\n",
            "Epoch: 88 \tTrain Loss: 0.495476 \tTrain Accuracy: 0.70312\n",
            "Epoch: 89 \tTrain Loss: 0.507943 \tTrain Accuracy: 0.69531\n",
            "Epoch: 90 \tTrain Loss: 0.494381 \tTrain Accuracy: 0.69531\n",
            "Epoch: 91 \tTrain Loss: 0.513681 \tTrain Accuracy: 0.69531\n",
            "Epoch: 92 \tTrain Loss: 0.493950 \tTrain Accuracy: 0.69531\n",
            "Epoch: 93 \tTrain Loss: 0.513835 \tTrain Accuracy: 0.68750\n",
            "Epoch: 94 \tTrain Loss: 0.493635 \tTrain Accuracy: 0.70312\n",
            "Epoch: 95 \tTrain Loss: 0.518532 \tTrain Accuracy: 0.68750\n",
            "Epoch: 96 \tTrain Loss: 0.492824 \tTrain Accuracy: 0.70312\n",
            "Epoch: 97 \tTrain Loss: 0.514879 \tTrain Accuracy: 0.68750\n",
            "Epoch: 98 \tTrain Loss: 0.492363 \tTrain Accuracy: 0.70312\n",
            "Epoch: 99 \tTrain Loss: 0.519241 \tTrain Accuracy: 0.70312\n",
            "Epoch: 100 \tTrain Loss: 0.490860 \tTrain Accuracy: 0.70312\n",
            "Epoch: 101 \tTrain Loss: 0.513598 \tTrain Accuracy: 0.69531\n",
            "Epoch: 102 \tTrain Loss: 0.489865 \tTrain Accuracy: 0.70312\n",
            "Epoch: 103 \tTrain Loss: 0.511396 \tTrain Accuracy: 0.69531\n",
            "Epoch: 104 \tTrain Loss: 0.489297 \tTrain Accuracy: 0.70312\n",
            "Epoch: 105 \tTrain Loss: 0.516200 \tTrain Accuracy: 0.70312\n",
            "Epoch: 106 \tTrain Loss: 0.487967 \tTrain Accuracy: 0.70312\n",
            "Epoch: 107 \tTrain Loss: 0.510742 \tTrain Accuracy: 0.69531\n",
            "Epoch: 108 \tTrain Loss: 0.487543 \tTrain Accuracy: 0.70312\n",
            "Epoch: 109 \tTrain Loss: 0.517107 \tTrain Accuracy: 0.70312\n",
            "Epoch: 110 \tTrain Loss: 0.486590 \tTrain Accuracy: 0.70312\n",
            "Epoch: 111 \tTrain Loss: 0.511318 \tTrain Accuracy: 0.70312\n",
            "Epoch: 112 \tTrain Loss: 0.487228 \tTrain Accuracy: 0.70312\n",
            "Epoch: 113 \tTrain Loss: 0.517366 \tTrain Accuracy: 0.70312\n",
            "Epoch: 114 \tTrain Loss: 0.485629 \tTrain Accuracy: 0.70312\n",
            "Epoch: 115 \tTrain Loss: 0.513415 \tTrain Accuracy: 0.69531\n",
            "Epoch: 116 \tTrain Loss: 0.489505 \tTrain Accuracy: 0.68750\n",
            "Epoch: 117 \tTrain Loss: 0.523021 \tTrain Accuracy: 0.72656\n",
            "Epoch: 118 \tTrain Loss: 0.483855 \tTrain Accuracy: 0.70312\n",
            "Epoch: 119 \tTrain Loss: 0.506503 \tTrain Accuracy: 0.70312\n",
            "Epoch: 120 \tTrain Loss: 0.487169 \tTrain Accuracy: 0.68750\n",
            "Epoch: 121 \tTrain Loss: 0.529297 \tTrain Accuracy: 0.71875\n",
            "Epoch: 122 \tTrain Loss: 0.482998 \tTrain Accuracy: 0.71094\n",
            "Epoch: 123 \tTrain Loss: 0.502313 \tTrain Accuracy: 0.70312\n",
            "Epoch: 124 \tTrain Loss: 0.487717 \tTrain Accuracy: 0.69531\n",
            "Epoch: 125 \tTrain Loss: 0.525277 \tTrain Accuracy: 0.71094\n",
            "Epoch: 126 \tTrain Loss: 0.482657 \tTrain Accuracy: 0.70312\n",
            "Epoch: 127 \tTrain Loss: 0.493956 \tTrain Accuracy: 0.71875\n",
            "Epoch: 128 \tTrain Loss: 0.483408 \tTrain Accuracy: 0.69531\n",
            "Epoch: 129 \tTrain Loss: 0.535611 \tTrain Accuracy: 0.70312\n",
            "Epoch: 130 \tTrain Loss: 0.482519 \tTrain Accuracy: 0.70312\n",
            "Epoch: 131 \tTrain Loss: 0.498358 \tTrain Accuracy: 0.70312\n",
            "Epoch: 132 \tTrain Loss: 0.484196 \tTrain Accuracy: 0.69531\n",
            "Epoch: 133 \tTrain Loss: 0.516360 \tTrain Accuracy: 0.70312\n",
            "Epoch: 134 \tTrain Loss: 0.484140 \tTrain Accuracy: 0.70312\n",
            "Epoch: 135 \tTrain Loss: 0.510947 \tTrain Accuracy: 0.70312\n",
            "Epoch: 136 \tTrain Loss: 0.483375 \tTrain Accuracy: 0.70312\n",
            "Epoch: 137 \tTrain Loss: 0.513554 \tTrain Accuracy: 0.70312\n",
            "Epoch: 138 \tTrain Loss: 0.483459 \tTrain Accuracy: 0.69531\n",
            "Epoch: 139 \tTrain Loss: 0.512300 \tTrain Accuracy: 0.70312\n",
            "Epoch: 140 \tTrain Loss: 0.481249 \tTrain Accuracy: 0.70312\n",
            "Epoch: 141 \tTrain Loss: 0.512624 \tTrain Accuracy: 0.71094\n",
            "Epoch: 142 \tTrain Loss: 0.484636 \tTrain Accuracy: 0.68750\n",
            "Epoch: 143 \tTrain Loss: 0.513158 \tTrain Accuracy: 0.71875\n",
            "Epoch: 144 \tTrain Loss: 0.479575 \tTrain Accuracy: 0.70312\n",
            "Epoch: 145 \tTrain Loss: 0.505470 \tTrain Accuracy: 0.68750\n",
            "Epoch: 146 \tTrain Loss: 0.485960 \tTrain Accuracy: 0.68750\n",
            "Epoch: 147 \tTrain Loss: 0.516914 \tTrain Accuracy: 0.71094\n",
            "Epoch: 148 \tTrain Loss: 0.478740 \tTrain Accuracy: 0.70312\n",
            "Epoch: 149 \tTrain Loss: 0.511736 \tTrain Accuracy: 0.71875\n",
            "Epoch: 150 \tTrain Loss: 0.481280 \tTrain Accuracy: 0.69531\n",
            "Epoch: 151 \tTrain Loss: 0.515472 \tTrain Accuracy: 0.71094\n",
            "Epoch: 152 \tTrain Loss: 0.479190 \tTrain Accuracy: 0.70312\n",
            "Epoch: 153 \tTrain Loss: 0.507958 \tTrain Accuracy: 0.70312\n",
            "Epoch: 154 \tTrain Loss: 0.482110 \tTrain Accuracy: 0.68750\n",
            "Epoch: 155 \tTrain Loss: 0.518709 \tTrain Accuracy: 0.70312\n",
            "Epoch: 156 \tTrain Loss: 0.477134 \tTrain Accuracy: 0.70312\n",
            "Epoch: 157 \tTrain Loss: 0.503645 \tTrain Accuracy: 0.67188\n",
            "Epoch: 158 \tTrain Loss: 0.486115 \tTrain Accuracy: 0.69531\n",
            "Epoch: 159 \tTrain Loss: 0.509021 \tTrain Accuracy: 0.72656\n",
            "Epoch: 160 \tTrain Loss: 0.474548 \tTrain Accuracy: 0.70312\n",
            "Epoch: 161 \tTrain Loss: 0.510714 \tTrain Accuracy: 0.69531\n",
            "Epoch: 162 \tTrain Loss: 0.480772 \tTrain Accuracy: 0.69531\n",
            "Epoch: 163 \tTrain Loss: 0.510553 \tTrain Accuracy: 0.71094\n",
            "Epoch: 164 \tTrain Loss: 0.474946 \tTrain Accuracy: 0.70312\n",
            "Epoch: 165 \tTrain Loss: 0.507881 \tTrain Accuracy: 0.68750\n",
            "Epoch: 166 \tTrain Loss: 0.479498 \tTrain Accuracy: 0.69531\n",
            "Epoch: 167 \tTrain Loss: 0.508582 \tTrain Accuracy: 0.72656\n",
            "Epoch: 168 \tTrain Loss: 0.474135 \tTrain Accuracy: 0.70312\n",
            "Epoch: 169 \tTrain Loss: 0.506705 \tTrain Accuracy: 0.68750\n",
            "Epoch: 170 \tTrain Loss: 0.479885 \tTrain Accuracy: 0.69531\n",
            "Epoch: 171 \tTrain Loss: 0.510911 \tTrain Accuracy: 0.72656\n",
            "Epoch: 172 \tTrain Loss: 0.473245 \tTrain Accuracy: 0.70312\n",
            "Epoch: 173 \tTrain Loss: 0.508786 \tTrain Accuracy: 0.70312\n",
            "Epoch: 174 \tTrain Loss: 0.480485 \tTrain Accuracy: 0.68750\n",
            "Epoch: 175 \tTrain Loss: 0.507723 \tTrain Accuracy: 0.71094\n",
            "Epoch: 176 \tTrain Loss: 0.471526 \tTrain Accuracy: 0.71094\n",
            "Epoch: 177 \tTrain Loss: 0.504242 \tTrain Accuracy: 0.70312\n",
            "Epoch: 178 \tTrain Loss: 0.480071 \tTrain Accuracy: 0.68750\n",
            "Epoch: 179 \tTrain Loss: 0.507492 \tTrain Accuracy: 0.71875\n",
            "Epoch: 180 \tTrain Loss: 0.468864 \tTrain Accuracy: 0.71094\n",
            "Epoch: 181 \tTrain Loss: 0.502340 \tTrain Accuracy: 0.70312\n",
            "Epoch: 182 \tTrain Loss: 0.479775 \tTrain Accuracy: 0.68750\n",
            "Epoch: 183 \tTrain Loss: 0.508905 \tTrain Accuracy: 0.72656\n",
            "Epoch: 184 \tTrain Loss: 0.469168 \tTrain Accuracy: 0.70312\n",
            "Epoch: 185 \tTrain Loss: 0.502900 \tTrain Accuracy: 0.71875\n",
            "Epoch: 186 \tTrain Loss: 0.475791 \tTrain Accuracy: 0.69531\n",
            "Epoch: 187 \tTrain Loss: 0.506806 \tTrain Accuracy: 0.69531\n",
            "Epoch: 188 \tTrain Loss: 0.470064 \tTrain Accuracy: 0.70312\n",
            "Epoch: 189 \tTrain Loss: 0.506070 \tTrain Accuracy: 0.72656\n",
            "Epoch: 190 \tTrain Loss: 0.473459 \tTrain Accuracy: 0.69531\n",
            "Epoch: 191 \tTrain Loss: 0.505180 \tTrain Accuracy: 0.71875\n",
            "Epoch: 192 \tTrain Loss: 0.467989 \tTrain Accuracy: 0.70312\n",
            "Epoch: 193 \tTrain Loss: 0.504451 \tTrain Accuracy: 0.72656\n",
            "Epoch: 194 \tTrain Loss: 0.470408 \tTrain Accuracy: 0.69531\n",
            "Epoch: 195 \tTrain Loss: 0.505443 \tTrain Accuracy: 0.74219\n",
            "Epoch: 196 \tTrain Loss: 0.466914 \tTrain Accuracy: 0.71094\n",
            "Epoch: 197 \tTrain Loss: 0.498424 \tTrain Accuracy: 0.71094\n",
            "Epoch: 198 \tTrain Loss: 0.475641 \tTrain Accuracy: 0.68750\n",
            "Epoch: 199 \tTrain Loss: 0.510164 \tTrain Accuracy: 0.71094\n",
            "Epoch: 200 \tTrain Loss: 0.464510 \tTrain Accuracy: 0.71094\n",
            "Epoch: 201 \tTrain Loss: 0.493819 \tTrain Accuracy: 0.72656\n",
            "Epoch: 202 \tTrain Loss: 0.474262 \tTrain Accuracy: 0.69531\n",
            "Epoch: 203 \tTrain Loss: 0.506925 \tTrain Accuracy: 0.71875\n",
            "Epoch: 204 \tTrain Loss: 0.463971 \tTrain Accuracy: 0.71094\n",
            "Epoch: 205 \tTrain Loss: 0.497639 \tTrain Accuracy: 0.72656\n",
            "Epoch: 206 \tTrain Loss: 0.472307 \tTrain Accuracy: 0.69531\n",
            "Epoch: 207 \tTrain Loss: 0.502269 \tTrain Accuracy: 0.75000\n",
            "Epoch: 208 \tTrain Loss: 0.464671 \tTrain Accuracy: 0.70312\n",
            "Epoch: 209 \tTrain Loss: 0.502639 \tTrain Accuracy: 0.72656\n",
            "Epoch: 210 \tTrain Loss: 0.468474 \tTrain Accuracy: 0.69531\n",
            "Epoch: 211 \tTrain Loss: 0.503329 \tTrain Accuracy: 0.72656\n",
            "Epoch: 212 \tTrain Loss: 0.466850 \tTrain Accuracy: 0.70312\n",
            "Epoch: 213 \tTrain Loss: 0.503436 \tTrain Accuracy: 0.73438\n",
            "Epoch: 214 \tTrain Loss: 0.463523 \tTrain Accuracy: 0.71094\n",
            "Epoch: 215 \tTrain Loss: 0.504801 \tTrain Accuracy: 0.72656\n",
            "Epoch: 216 \tTrain Loss: 0.466737 \tTrain Accuracy: 0.70312\n",
            "Epoch: 217 \tTrain Loss: 0.499901 \tTrain Accuracy: 0.72656\n",
            "Epoch: 218 \tTrain Loss: 0.465367 \tTrain Accuracy: 0.70312\n",
            "Epoch: 219 \tTrain Loss: 0.505508 \tTrain Accuracy: 0.73438\n",
            "Epoch: 220 \tTrain Loss: 0.462603 \tTrain Accuracy: 0.71094\n",
            "Epoch: 221 \tTrain Loss: 0.497987 \tTrain Accuracy: 0.71094\n",
            "Epoch: 222 \tTrain Loss: 0.468786 \tTrain Accuracy: 0.69531\n",
            "Epoch: 223 \tTrain Loss: 0.502540 \tTrain Accuracy: 0.73438\n",
            "Epoch: 224 \tTrain Loss: 0.460035 \tTrain Accuracy: 0.71094\n",
            "Epoch: 225 \tTrain Loss: 0.495167 \tTrain Accuracy: 0.71094\n",
            "Epoch: 226 \tTrain Loss: 0.472229 \tTrain Accuracy: 0.69531\n",
            "Epoch: 227 \tTrain Loss: 0.498524 \tTrain Accuracy: 0.74219\n",
            "Epoch: 228 \tTrain Loss: 0.457573 \tTrain Accuracy: 0.71094\n",
            "Epoch: 229 \tTrain Loss: 0.492325 \tTrain Accuracy: 0.71094\n",
            "Epoch: 230 \tTrain Loss: 0.475675 \tTrain Accuracy: 0.68750\n",
            "Epoch: 231 \tTrain Loss: 0.499200 \tTrain Accuracy: 0.75000\n",
            "Epoch: 232 \tTrain Loss: 0.456222 \tTrain Accuracy: 0.70312\n",
            "Epoch: 233 \tTrain Loss: 0.487462 \tTrain Accuracy: 0.71094\n",
            "Epoch: 234 \tTrain Loss: 0.476130 \tTrain Accuracy: 0.69531\n",
            "Epoch: 235 \tTrain Loss: 0.497602 \tTrain Accuracy: 0.75000\n",
            "Epoch: 236 \tTrain Loss: 0.455126 \tTrain Accuracy: 0.70312\n",
            "Epoch: 237 \tTrain Loss: 0.486725 \tTrain Accuracy: 0.71094\n",
            "Epoch: 238 \tTrain Loss: 0.476317 \tTrain Accuracy: 0.68750\n",
            "Epoch: 239 \tTrain Loss: 0.497434 \tTrain Accuracy: 0.75000\n",
            "Epoch: 240 \tTrain Loss: 0.454260 \tTrain Accuracy: 0.71094\n",
            "Epoch: 241 \tTrain Loss: 0.490261 \tTrain Accuracy: 0.72656\n",
            "Epoch: 242 \tTrain Loss: 0.470238 \tTrain Accuracy: 0.69531\n",
            "Epoch: 243 \tTrain Loss: 0.501920 \tTrain Accuracy: 0.75000\n",
            "Epoch: 244 \tTrain Loss: 0.453553 \tTrain Accuracy: 0.71875\n",
            "Epoch: 245 \tTrain Loss: 0.485028 \tTrain Accuracy: 0.71875\n",
            "Epoch: 246 \tTrain Loss: 0.471011 \tTrain Accuracy: 0.68750\n",
            "Epoch: 247 \tTrain Loss: 0.500138 \tTrain Accuracy: 0.75000\n",
            "Epoch: 248 \tTrain Loss: 0.452738 \tTrain Accuracy: 0.70312\n",
            "Epoch: 249 \tTrain Loss: 0.488414 \tTrain Accuracy: 0.71875\n",
            "Epoch: 250 \tTrain Loss: 0.472821 \tTrain Accuracy: 0.68750\n",
            "Epoch: 251 \tTrain Loss: 0.495031 \tTrain Accuracy: 0.74219\n",
            "Epoch: 252 \tTrain Loss: 0.450836 \tTrain Accuracy: 0.71094\n",
            "Epoch: 253 \tTrain Loss: 0.475706 \tTrain Accuracy: 0.71875\n",
            "Epoch: 254 \tTrain Loss: 0.480956 \tTrain Accuracy: 0.68750\n",
            "Epoch: 255 \tTrain Loss: 0.492748 \tTrain Accuracy: 0.75000\n",
            "Epoch: 256 \tTrain Loss: 0.450122 \tTrain Accuracy: 0.71094\n",
            "Epoch: 257 \tTrain Loss: 0.474916 \tTrain Accuracy: 0.72656\n",
            "Epoch: 258 \tTrain Loss: 0.481788 \tTrain Accuracy: 0.69531\n",
            "Epoch: 259 \tTrain Loss: 0.490661 \tTrain Accuracy: 0.74219\n",
            "Epoch: 260 \tTrain Loss: 0.448858 \tTrain Accuracy: 0.71094\n",
            "Epoch: 261 \tTrain Loss: 0.471698 \tTrain Accuracy: 0.71875\n",
            "Epoch: 262 \tTrain Loss: 0.482482 \tTrain Accuracy: 0.68750\n",
            "Epoch: 263 \tTrain Loss: 0.490999 \tTrain Accuracy: 0.74219\n",
            "Epoch: 264 \tTrain Loss: 0.448060 \tTrain Accuracy: 0.71875\n",
            "Epoch: 265 \tTrain Loss: 0.469820 \tTrain Accuracy: 0.73438\n",
            "Epoch: 266 \tTrain Loss: 0.487563 \tTrain Accuracy: 0.69531\n",
            "Epoch: 267 \tTrain Loss: 0.482613 \tTrain Accuracy: 0.75000\n",
            "Epoch: 268 \tTrain Loss: 0.448013 \tTrain Accuracy: 0.74219\n",
            "Epoch: 269 \tTrain Loss: 0.453462 \tTrain Accuracy: 0.72656\n",
            "Epoch: 270 \tTrain Loss: 0.477517 \tTrain Accuracy: 0.69531\n",
            "Epoch: 271 \tTrain Loss: 0.500345 \tTrain Accuracy: 0.75000\n",
            "Epoch: 272 \tTrain Loss: 0.446705 \tTrain Accuracy: 0.71875\n",
            "Epoch: 273 \tTrain Loss: 0.486739 \tTrain Accuracy: 0.72656\n",
            "Epoch: 274 \tTrain Loss: 0.465762 \tTrain Accuracy: 0.70312\n",
            "Epoch: 275 \tTrain Loss: 0.494343 \tTrain Accuracy: 0.75000\n",
            "Epoch: 276 \tTrain Loss: 0.446192 \tTrain Accuracy: 0.71875\n",
            "Epoch: 277 \tTrain Loss: 0.483586 \tTrain Accuracy: 0.71875\n",
            "Epoch: 278 \tTrain Loss: 0.466535 \tTrain Accuracy: 0.69531\n",
            "Epoch: 279 \tTrain Loss: 0.491738 \tTrain Accuracy: 0.75000\n",
            "Epoch: 280 \tTrain Loss: 0.446690 \tTrain Accuracy: 0.71875\n",
            "Epoch: 281 \tTrain Loss: 0.492419 \tTrain Accuracy: 0.73438\n",
            "Epoch: 282 \tTrain Loss: 0.458368 \tTrain Accuracy: 0.69531\n",
            "Epoch: 283 \tTrain Loss: 0.495217 \tTrain Accuracy: 0.74219\n",
            "Epoch: 284 \tTrain Loss: 0.446385 \tTrain Accuracy: 0.71094\n",
            "Epoch: 285 \tTrain Loss: 0.493129 \tTrain Accuracy: 0.72656\n",
            "Epoch: 286 \tTrain Loss: 0.450601 \tTrain Accuracy: 0.71875\n",
            "Epoch: 287 \tTrain Loss: 0.493356 \tTrain Accuracy: 0.74219\n",
            "Epoch: 288 \tTrain Loss: 0.448386 \tTrain Accuracy: 0.71875\n",
            "Epoch: 289 \tTrain Loss: 0.493263 \tTrain Accuracy: 0.74219\n",
            "Epoch: 290 \tTrain Loss: 0.448227 \tTrain Accuracy: 0.71875\n",
            "Epoch: 291 \tTrain Loss: 0.489826 \tTrain Accuracy: 0.75000\n"
          ]
        }
      ]
    },
    {
      "cell_type": "code",
      "source": [
        "test_var = Variable(torch.FloatTensor(test.values), requires_grad=False) \n",
        "with torch.no_grad():\n",
        "    test_result = model(test_var)\n",
        "values, labels = torch.max(test_result, 1)\n",
        "survived = labels.data.numpy()\n",
        "survived"
      ],
      "metadata": {
        "colab": {
          "base_uri": "https://localhost:8080/"
        },
        "id": "jGvHWwANw5OA",
        "outputId": "3544da78-6955-4953-98a0-0e887aed7c94"
      },
      "execution_count": 176,
      "outputs": [
        {
          "output_type": "execute_result",
          "data": {
            "text/plain": [
              "array([0, 1, 0, 0, 1, 0, 1, 1, 1, 0, 0, 1, 1, 1, 1, 1, 0, 0, 1, 1, 1, 0,\n",
              "       1, 1, 1, 0, 1, 0, 1, 0, 1, 1, 1, 1, 1, 0, 1, 1, 0, 1, 0, 1, 0, 1,\n",
              "       1, 0, 1, 0, 1, 1, 1, 1, 1, 1, 0, 0, 0, 0, 0, 1, 0, 0, 0, 1, 1, 1,\n",
              "       1, 1, 1, 1, 1, 0, 1, 1, 1, 1, 0, 1, 0, 1, 0, 1, 1, 0, 0, 0, 1, 1,\n",
              "       1, 1, 1, 0, 1, 0, 1, 0, 1, 0, 1, 0, 1, 0, 0, 0, 1, 0, 0, 0, 0, 0,\n",
              "       0, 1, 1, 1, 1, 0, 0, 1, 1, 1, 1, 0, 1, 0, 0, 1, 0, 1, 0, 0, 0, 1,\n",
              "       0, 0, 0, 0, 0, 0, 1, 0, 0, 1, 1, 0, 1, 0, 1, 0, 1, 0, 1, 0, 1, 1,\n",
              "       0, 0, 1, 1, 1, 1, 1, 0, 1, 0, 0, 1, 1, 0, 1, 1, 0, 0, 0, 0, 0, 1,\n",
              "       1, 1, 1, 1, 0, 1, 1, 0, 1, 0, 1, 0, 0, 0, 0, 1, 0, 0, 1, 0, 1, 1,\n",
              "       0, 1, 1, 1, 1, 1, 0, 1, 1, 0, 1, 0, 0, 0, 1, 1, 1, 1, 1, 1, 1, 0,\n",
              "       1, 0, 1, 0, 1, 1, 0, 1, 0, 0, 1, 1, 0, 0, 1, 0, 1, 0, 1, 1, 1, 1,\n",
              "       1, 0, 0, 1, 1, 1, 1, 1, 1, 0, 1, 0, 0, 0, 0, 0, 1, 0, 0, 0, 1, 1,\n",
              "       0, 0, 0, 0, 1, 0, 1, 0, 1, 1, 0, 1, 0, 1, 0, 0, 1, 0, 1, 1, 1, 0,\n",
              "       0, 1, 0, 0, 1, 1, 0, 1, 0, 0, 1, 0, 1, 0, 0, 0, 1, 0, 1, 1, 1, 0,\n",
              "       1, 1, 0, 0, 0, 1, 1, 1, 1, 0, 0, 1, 0, 0, 0, 0, 1, 0, 1, 1, 0, 0,\n",
              "       1, 1, 0, 1, 0, 0, 0, 0, 1, 0, 0, 0, 1, 1, 0, 1, 0, 1, 0, 1, 1, 0,\n",
              "       1, 1, 1, 1, 1, 0, 0, 1, 0, 1, 1, 0, 1, 1, 0, 1, 1, 0, 0, 1, 0, 0,\n",
              "       1, 1, 1, 0, 1, 0, 0, 0, 1, 1, 0, 1, 0, 0, 0, 0, 1, 1, 0, 0, 0, 1,\n",
              "       0, 1, 0, 0, 1, 1, 1, 1, 1, 0, 0, 1, 1, 0, 1, 1, 1, 0, 1, 0, 0, 0])"
            ]
          },
          "metadata": {},
          "execution_count": 176
        }
      ]
    },
    {
      "cell_type": "code",
      "source": [
        "submission = pd.DataFrame({'PassengerId': test_df['PassengerId'], 'Survived': survived})\n",
        "submission.to_csv('submission.csv', index=False)"
      ],
      "metadata": {
        "id": "xdAdJUBezd6L"
      },
      "execution_count": 177,
      "outputs": []
    }
  ]
}